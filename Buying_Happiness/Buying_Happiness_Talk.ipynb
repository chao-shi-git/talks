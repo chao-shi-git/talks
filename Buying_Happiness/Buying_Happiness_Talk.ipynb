{
 "cells": [
  {
   "cell_type": "markdown",
   "metadata": {
    "slideshow": {
     "slide_type": "slide"
    }
   },
   "source": [
    "<center>\n",
    "    <h1>Buying Happiness</h1>\n",
    "\n",
    "    <h2>Turning Words Into Numbers for Maximum Utility</h2>\n",
    "    <img src=\"./images/logo-q-press-logo-red.png\" alt=\"Quantopian\" style=\"width: 200px;\"/>\n",
    "    \n",
    "    <h4>Max Margenot</h4>\n",
    "    <h4>Lead - Data Science/Academia</h4>\n",
    "</center>"
   ]
  },
  {
   "cell_type": "markdown",
   "metadata": {
    "slideshow": {
     "slide_type": "slide"
    }
   },
   "source": [
    "*This presentation is for informational purposes only and does not constitute an offer to sell, a solicitation to buy, or a recommendation for any security; nor does it constitute an offer to provide investment advisory or other services by Quantopian, Inc. (\"Quantopian\"). Nothing contained herein constitutes investment advice or offers any opinion with respect to the suitability of any security, and any views expressed herein should not be taken as advice to buy, sell, or hold any security or as an endorsement of any security or company. In preparing the information contained herein, Quantopian, Inc. has not taken into account the investment needs, objectives, and financial circumstances of any particular investor. Any views expressed and data illustrated herein were prepared based upon information, believed to be reliable, available to Quantopian, Inc. at the time of publication. Quantopian makes no guarantees as to their accuracy or completeness. All information is subject to change and may quickly become unreliable for various reasons, including changes in market conditions or economic circumstances.*"
   ]
  },
  {
   "cell_type": "markdown",
   "metadata": {
    "slideshow": {
     "slide_type": "slide"
    }
   },
   "source": [
    "# Machine Learning\n",
    "\n",
    "* Gathers insight on models from other models and from data\n",
    "* You can learn a style of trading from past sets of trades"
   ]
  },
  {
   "cell_type": "markdown",
   "metadata": {
    "slideshow": {
     "slide_type": "fragment"
    }
   },
   "source": [
    "* Use data to come up with a new style of trading\n",
    "* Unstructured data as a source of insight"
   ]
  },
  {
   "cell_type": "markdown",
   "metadata": {
    "slideshow": {
     "slide_type": "slide"
    }
   },
   "source": [
    "## Natural Language Processing (NLP)\n",
    "\n",
    "* Computer science and linguistics tools to interpret human language and text\n",
    "* Allows us to quantify unstructured text"
   ]
  },
  {
   "cell_type": "markdown",
   "metadata": {
    "slideshow": {
     "slide_type": "slide"
    }
   },
   "source": [
    "## Data Processing"
   ]
  },
  {
   "cell_type": "markdown",
   "metadata": {
    "slideshow": {
     "slide_type": "-"
    }
   },
   "source": [
    "* Stopwords\n",
    "* Tokenization\n",
    "* Stemming"
   ]
  },
  {
   "cell_type": "markdown",
   "metadata": {
    "slideshow": {
     "slide_type": "slide"
    }
   },
   "source": [
    "## Feature Generation"
   ]
  },
  {
   "cell_type": "markdown",
   "metadata": {
    "slideshow": {
     "slide_type": "fragment"
    }
   },
   "source": [
    "### Bag of Words"
   ]
  },
  {
   "cell_type": "markdown",
   "metadata": {
    "slideshow": {
     "slide_type": "fragment"
    }
   },
   "source": [
    "#### Unigrams"
   ]
  },
  {
   "cell_type": "code",
   "execution_count": 13,
   "metadata": {
    "slideshow": {
     "slide_type": "-"
    }
   },
   "outputs": [
    {
     "data": {
      "text/plain": [
       "[['Show', 'me', 'the', 'alpha'], ['Carthago', 'delenda', 'est']]"
      ]
     },
     "execution_count": 13,
     "metadata": {},
     "output_type": "execute_result"
    }
   ],
   "source": [
    "my_phrases = ['Show me the alpha', 'Carthago delenda est',]\n",
    "[phrase.split(' ') for phrase in my_phrases]"
   ]
  },
  {
   "cell_type": "markdown",
   "metadata": {
    "slideshow": {
     "slide_type": "fragment"
    }
   },
   "source": [
    "#### Bigrams"
   ]
  },
  {
   "cell_type": "code",
   "execution_count": 10,
   "metadata": {
    "slideshow": {
     "slide_type": "-"
    }
   },
   "outputs": [
    {
     "data": {
      "text/plain": [
       "[('Show', 'me'),\n",
       " ('me', 'the'),\n",
       " ('the', 'alpha'),\n",
       " ('Carthago', 'delenda'),\n",
       " ('delenda', 'est')]"
      ]
     },
     "execution_count": 10,
     "metadata": {},
     "output_type": "execute_result"
    }
   ],
   "source": [
    "[word for phrase in my_phrases for word in zip(phrase.split(' ')[:-1], phrase.split(' ')[1:])]"
   ]
  },
  {
   "cell_type": "markdown",
   "metadata": {
    "slideshow": {
     "slide_type": "slide"
    }
   },
   "source": [
    "## Feature Generation\n",
    "\n",
    "### Word Embeddings"
   ]
  },
  {
   "cell_type": "code",
   "execution_count": 1,
   "metadata": {
    "slideshow": {
     "slide_type": "skip"
    }
   },
   "outputs": [
    {
     "name": "stderr",
     "output_type": "stream",
     "text": [
      "Using TensorFlow backend.\n"
     ]
    }
   ],
   "source": [
    "import gensim\n",
    "w2v = gensim.models.Word2Vec.load('../../open_source/sensitivipy/d2v')"
   ]
  },
  {
   "cell_type": "code",
   "execution_count": 10,
   "metadata": {
    "slideshow": {
     "slide_type": "fragment"
    }
   },
   "outputs": [
    {
     "data": {
      "text/plain": [
       "array([ 2.62551141,  0.4847329 ,  0.45857674,  0.78889996, -0.43683404,\n",
       "       -0.53521132, -0.42866716, -0.97290128,  4.26054811,  0.16179222,\n",
       "       -1.51473927, -0.67379916,  0.91109943, -0.52419966, -0.58900422,\n",
       "       -0.64030105,  0.51280391, -1.69713056,  3.31448555,  1.11600494,\n",
       "       -0.79634368, -0.33716959, -0.69943726,  1.17677033,  1.7335273 ,\n",
       "        0.51291114, -0.14284545,  1.29976273,  1.54217029, -0.62447971,\n",
       "       -2.48501277, -1.00985312, -1.52342713, -1.05349064, -1.50105405,\n",
       "       -0.53860253, -1.22803974,  3.16734791, -0.75309408,  1.87978327,\n",
       "       -2.15208626,  0.48014098,  2.36944318,  1.19643748, -1.07344544,\n",
       "       -0.713144  , -1.06406701, -0.78677535,  0.01792815,  1.49741733,\n",
       "        0.26484376, -1.14412224,  0.44056687,  1.39928448, -1.02806461,\n",
       "       -0.95280224, -1.12010801, -0.4622038 ,  4.02090597, -1.2571429 ,\n",
       "        1.50985861, -1.4511081 , -1.14850509, -0.05078466, -1.58439875,\n",
       "        1.1981262 , -2.02171135, -2.81897902, -1.1634382 ,  0.04407097,\n",
       "       -0.79309672,  4.74057817, -2.21514225, -2.09112597,  0.22909014,\n",
       "        1.85296142,  0.40679726,  2.42947268, -3.21426964, -1.52643561,\n",
       "       -0.62403005, -0.0136863 , -3.01718664,  1.78197658,  1.49823368,\n",
       "        1.90730059, -0.13810879, -0.42983153, -2.03577447, -0.90045542,\n",
       "        0.55186057, -1.83319104, -0.95176637, -1.99936867,  1.40097189,\n",
       "       -3.14594722,  1.79646266,  0.15805981,  0.44660708,  0.67468214], dtype=float32)"
      ]
     },
     "execution_count": 10,
     "metadata": {},
     "output_type": "execute_result"
    }
   ],
   "source": [
    "w2v.wv['bless']"
   ]
  },
  {
   "cell_type": "markdown",
   "metadata": {
    "slideshow": {
     "slide_type": "slide"
    }
   },
   "source": [
    "## Feature Generation\n",
    "\n",
    "### Word Embeddings"
   ]
  },
  {
   "cell_type": "code",
   "execution_count": 22,
   "metadata": {
    "slideshow": {
     "slide_type": "-"
    }
   },
   "outputs": [
    {
     "data": {
      "text/plain": [
       "[('prais', 0.632722020149231),\n",
       " ('prayer', 0.5398192405700684),\n",
       " ('grate', 0.5342082977294922),\n",
       " ('thank', 0.5135688185691833),\n",
       " ('pray', 0.4962601065635681),\n",
       " ('xoxo', 0.47532156109809875),\n",
       " ('humbl', 0.47377634048461914),\n",
       " ('faith', 0.4691312313079834),\n",
       " ('safe', 0.4633764922618866),\n",
       " ('inspir', 0.456495463848114)]"
      ]
     },
     "execution_count": 22,
     "metadata": {},
     "output_type": "execute_result"
    }
   ],
   "source": [
    "w2v.wv.most_similar('bless')"
   ]
  },
  {
   "cell_type": "markdown",
   "metadata": {
    "slideshow": {
     "slide_type": "slide"
    }
   },
   "source": [
    "## The Data"
   ]
  },
  {
   "cell_type": "markdown",
   "metadata": {
    "slideshow": {
     "slide_type": "fragment"
    }
   },
   "source": [
    "<center><img src=\"./images/twitter_logo.png\"></center>"
   ]
  },
  {
   "cell_type": "markdown",
   "metadata": {
    "slideshow": {
     "slide_type": "slide"
    }
   },
   "source": [
    "## Sentiment140\n",
    "\n",
    "* Twitter sentiment dataset"
   ]
  },
  {
   "cell_type": "markdown",
   "metadata": {
    "slideshow": {
     "slide_type": "slide"
    }
   },
   "source": [
    "## My Approach"
   ]
  },
  {
   "cell_type": "markdown",
   "metadata": {
    "slideshow": {
     "slide_type": "fragment"
    }
   },
   "source": [
    "* Logistic Regression with Bag of Words"
   ]
  },
  {
   "cell_type": "markdown",
   "metadata": {
    "slideshow": {
     "slide_type": "fragment"
    }
   },
   "source": [
    "* Neural Network with Word Embeddings"
   ]
  },
  {
   "cell_type": "markdown",
   "metadata": {
    "slideshow": {
     "slide_type": "slide"
    }
   },
   "source": [
    "## Logistic Regression"
   ]
  },
  {
   "cell_type": "markdown",
   "metadata": {
    "slideshow": {
     "slide_type": "-"
    }
   },
   "source": [
    "\\begin{eqnarray}\n",
    "g(X) &=& \\alpha + \\beta_0 X_0 + \\cdots + \\beta_n X_N \\\\\n",
    "F(X) &=& \\frac{1}{1 + e^{-g(X)}}\n",
    "\\end{eqnarray}"
   ]
  },
  {
   "cell_type": "markdown",
   "metadata": {
    "slideshow": {
     "slide_type": "fragment"
    }
   },
   "source": [
    "* Friendly, familiar linear model\n",
    "* Easy to interpret and understand"
   ]
  },
  {
   "cell_type": "markdown",
   "metadata": {
    "slideshow": {
     "slide_type": "slide"
    }
   },
   "source": [
    "## Results"
   ]
  },
  {
   "cell_type": "markdown",
   "metadata": {
    "slideshow": {
     "slide_type": "fragment"
    }
   },
   "source": [
    "<img src=\"./images/is_logistic_model.png\" alt=\"Logistic Regression Accuracy\" style=\"width: 800px;\"/>"
   ]
  },
  {
   "cell_type": "markdown",
   "metadata": {
    "slideshow": {
     "slide_type": "fragment"
    }
   },
   "source": [
    "<img src=\"./images/oos_logistic_model.png\" alt=\"Logistic Regression Accuracy\" style=\"width: 800px;\"/>"
   ]
  },
  {
   "cell_type": "markdown",
   "metadata": {
    "slideshow": {
     "slide_type": "slide"
    }
   },
   "source": [
    "## Neural Networks"
   ]
  },
  {
   "cell_type": "markdown",
   "metadata": {
    "slideshow": {
     "slide_type": "-"
    }
   },
   "source": [
    "<center>\n",
    "<img src=\"./images/basic_neural_network.png\" alt=\"Neural Network\" style=\"width: 400px;\"/>\n",
    "</center>"
   ]
  },
  {
   "cell_type": "markdown",
   "metadata": {
    "slideshow": {
     "slide_type": "slide"
    }
   },
   "source": [
    "## Neural Networks"
   ]
  },
  {
   "cell_type": "markdown",
   "metadata": {
    "slideshow": {
     "slide_type": "-"
    }
   },
   "source": [
    "<center>\n",
    "<img src=\"./images/neural_network.png\" alt=\"Neural Network\" style=\"width: 400px;\"/>\n",
    "</center>"
   ]
  },
  {
   "cell_type": "markdown",
   "metadata": {
    "slideshow": {
     "slide_type": "slide"
    }
   },
   "source": [
    "## Recurrent Neural Networks"
   ]
  },
  {
   "cell_type": "markdown",
   "metadata": {
    "slideshow": {
     "slide_type": "-"
    }
   },
   "source": [
    "<center>\n",
    "<img src=\"./images/recurrent_neural_network.png\" alt=\"Recurrent Neural Network\" style=\"width: 400px;\"/>\n",
    "</center>"
   ]
  },
  {
   "cell_type": "markdown",
   "metadata": {
    "slideshow": {
     "slide_type": "slide"
    }
   },
   "source": [
    "## Recurrent Neural Networks\n",
    "\n",
    "* Recurrent neural networks good for text processing\n",
    "* View sentences as sequences of words\n",
    "    * Similar to time series structure"
   ]
  },
  {
   "cell_type": "markdown",
   "metadata": {
    "slideshow": {
     "slide_type": "slide"
    }
   },
   "source": [
    "## Long Short-term Memory Networks"
   ]
  },
  {
   "cell_type": "markdown",
   "metadata": {
    "slideshow": {
     "slide_type": "-"
    }
   },
   "source": [
    "<center>\n",
    "<img src=\"./images/lstm.svg\" alt=\"Long Short-term Memory Network\" style=\"width: 800px;\"/>\n",
    "</center>"
   ]
  },
  {
   "cell_type": "markdown",
   "metadata": {
    "slideshow": {
     "slide_type": "slide"
    }
   },
   "source": [
    "## Long Short-term Memory Networks\n",
    "\n",
    "* In Keras this is simple to implement"
   ]
  },
  {
   "cell_type": "code",
   "execution_count": null,
   "metadata": {
    "collapsed": true,
    "slideshow": {
     "slide_type": "-"
    }
   },
   "outputs": [],
   "source": [
    "input_layer = Input(shape=(MAX_WORDS,))\n",
    "lstm_layer = LSTM(64,\n",
    "                  dropout=DROPOUT,\n",
    "                  activation='tanh')(input_layer)\n",
    "lstm_layer = LSTM(128,\n",
    "                  dropout=DROPOUT,\n",
    "                  activation='tanh')(lstm_layer)"
   ]
  },
  {
   "cell_type": "markdown",
   "metadata": {
    "slideshow": {
     "slide_type": "slide"
    }
   },
   "source": [
    "## Results"
   ]
  },
  {
   "cell_type": "markdown",
   "metadata": {
    "slideshow": {
     "slide_type": "fragment"
    }
   },
   "source": [
    "<center>\n",
    "<img src=\"./images/nn_training.png\" alt=\"Neural Network Training\" style=\"width: 800px;\"/>\n",
    "</center>"
   ]
  },
  {
   "cell_type": "markdown",
   "metadata": {
    "slideshow": {
     "slide_type": "slide"
    }
   },
   "source": [
    "<center>\n",
    "<img src=\"./images/presidential_seal.png\" alt=\"USA\" style=\"width: 400px;\"/>\n",
    "</center>"
   ]
  },
  {
   "cell_type": "markdown",
   "metadata": {
    "slideshow": {
     "slide_type": "slide"
    }
   },
   "source": [
    "## How to Compute A Signal?\n",
    "\n",
    "* Hypothesis: POTUS's tweets affect the market"
   ]
  },
  {
   "cell_type": "markdown",
   "metadata": {
    "slideshow": {
     "slide_type": "slide"
    }
   },
   "source": [
    "## Precedent"
   ]
  },
  {
   "cell_type": "markdown",
   "metadata": {
    "slideshow": {
     "slide_type": "fragment"
    }
   },
   "source": [
    "* Trump2Cash: https://github.com/maxbbraun/trump2cash\n",
    "    * Waits for the president to mention publicly-traded companies\n",
    "    * Uses sentiment analysis to determine positivity or negativity\n",
    "    * Enters long or short positions based on sentiment"
   ]
  },
  {
   "cell_type": "markdown",
   "metadata": {
    "slideshow": {
     "slide_type": "fragment"
    }
   },
   "source": [
    "* BOTUS: https://twitter.com/botus\n",
    "    * Waits for the president to mention publicly-traded companies\n",
    "    * Uses sentiment analysis to determine positivity or negativity\n",
    "    * Enters long or short positions based on sentiment"
   ]
  },
  {
   "cell_type": "markdown",
   "metadata": {
    "slideshow": {
     "slide_type": "fragment"
    }
   },
   "source": [
    "* Trump & Dump: https://www.t-3.com/work/the-trump-and-dump-bot-analyze-tweets-short-stocks-save-puppies-all-in-seconds\n",
    "    * Waits for the president to mention publicly-traded companies\n",
    "    * Uses sentiment analysis to determine positivity or negativity\n",
    "    * Enters short positions based if sentiment is negative"
   ]
  },
  {
   "cell_type": "markdown",
   "metadata": {
    "slideshow": {
     "slide_type": "slide"
    }
   },
   "source": [
    "# Factor Models\n",
    "\n",
    "* CAPM\n",
    "\n",
    "$$ r_p = \\alpha + \\beta_{m} r_{m} $$\n",
    "\n",
    "* Fama-French Factors\n",
    "\n",
    "$$ r_p = \\alpha + \\beta_{m} r_{m} + \\beta_{hml} r_{hml} + \\beta_{smb} r_{smb} $$\n",
    "\n",
    "* Alternative Factors\n",
    "\n",
    "$$ r_p = \\alpha + \\beta_0 r_0 + \\cdots + \\beta_n r_n $$"
   ]
  },
  {
   "cell_type": "markdown",
   "metadata": {
    "slideshow": {
     "slide_type": "slide"
    }
   },
   "source": [
    "## 30-day Moving Average of Sentiment\n",
    "\n",
    "<img src=\"./images/rolling_sentiment.png\" alt=\"Sentiment Score\" style=\"width: 800px;\"/>"
   ]
  },
  {
   "cell_type": "markdown",
   "metadata": {
    "slideshow": {
     "slide_type": "slide"
    }
   },
   "source": [
    "## Sentiment Exposure Signal\n",
    "\n",
    "<img src=\"./images/return_buckets.png\" alt=\"Mean Return Buckets\" style=\"width: 800px;\"/>"
   ]
  },
  {
   "cell_type": "markdown",
   "metadata": {
    "slideshow": {
     "slide_type": "subslide"
    }
   },
   "source": [
    "## Sentiment Exposure Signal\n",
    "\n",
    "<img src=\"./images/cumulative_return.png\" alt=\"Cumulative Returns\" style=\"width: 800px;\"/>"
   ]
  },
  {
   "cell_type": "markdown",
   "metadata": {
    "slideshow": {
     "slide_type": "subslide"
    }
   },
   "source": [
    "## Sentiment Exposure Signal\n",
    "\n",
    "<img src=\"./images/cumulative_return_buckets.png\" alt=\"Cumulative Return Buckets\" style=\"width: 800px;\"/>"
   ]
  },
  {
   "cell_type": "markdown",
   "metadata": {
    "slideshow": {
     "slide_type": "slide"
    }
   },
   "source": [
    "## Risk Analysis"
   ]
  },
  {
   "cell_type": "markdown",
   "metadata": {
    "slideshow": {
     "slide_type": "fragment"
    }
   },
   "source": [
    "<img src=\"./images/sentiment_beta_risk_exposures.png\" alt=\"Risk Exposures\" style=\"width: 800px;\"/>"
   ]
  },
  {
   "cell_type": "markdown",
   "metadata": {
    "slideshow": {
     "slide_type": "slide"
    }
   },
   "source": [
    "## Returns Breakdown"
   ]
  },
  {
   "cell_type": "markdown",
   "metadata": {
    "slideshow": {
     "slide_type": "fragment"
    }
   },
   "source": [
    "<img src=\"./images/returns_breakdown.png\" alt=\"Common and Specific Returns\" style=\"width: 800px;\"/>"
   ]
  },
  {
   "cell_type": "markdown",
   "metadata": {
    "slideshow": {
     "slide_type": "subslide"
    }
   },
   "source": [
    "<img src=\"./images/returns_breakdown_cumulative.png\" alt=\"Common and Specific Returns\" style=\"width: 800px;\"/>"
   ]
  },
  {
   "cell_type": "markdown",
   "metadata": {
    "slideshow": {
     "slide_type": "slide"
    }
   },
   "source": [
    "## Possible Improvements\n",
    "\n",
    "* Lemmatization instead of Stemming\n",
    "* Sense2Vec"
   ]
  },
  {
   "cell_type": "markdown",
   "metadata": {
    "slideshow": {
     "slide_type": "slide"
    }
   },
   "source": [
    "## Tools\n",
    "\n",
    "* scikit-learn: https://github.com/scikit-learn/scikit-learn\n",
    "* Gensim: https://github.com/RaRe-Technologies/gensim\n",
    "* Keras: https://github.com/fchollet/keras\n",
    "* Alphalens: https://github.com/quantopian/alphalens\n",
    "* Pyfolio: https://github.com/quantopian/pyfolio\n",
    "\n",
    "\n",
    "* Quantopian Research: https://www.quantopian.com/research\n",
    "* Quantopian Lecture Series: https://www.quantopian.com/lectures"
   ]
  },
  {
   "cell_type": "markdown",
   "metadata": {
    "slideshow": {
     "slide_type": "slide"
    }
   },
   "source": [
    "# References\n",
    "\n",
    "* Go, A., Bhayani, R. and Huang, L., 2009. Twitter sentiment classification using distant supervision. CS224N Project Report, Stanford, 1(2009), p.12.\n",
    "    * http://www.sentiment140.com/"
   ]
  },
  {
   "cell_type": "markdown",
   "metadata": {
    "slideshow": {
     "slide_type": "slide"
    }
   },
   "source": [
    "<div style=\"text-align:center\">\n",
    "    <center><img src=\"./images/twitter_logo.png\" alt='Twitter' style=\"width: 50px;\"/></center>\n",
    "    <h3>@clean_utensils</h3>\n",
    "</div>\n",
    "\n",
    "<div style=\"text-align:center\">\n",
    "    <center><img src=\"./images/github_logo.png\" alt=\"Github\" style=\"width: 50px;\"/></center>\n",
    "    <h3>@mmargenot</h3>\n",
    "</div>\n",
    "\n",
    "<div style=\"text-align:center\">\n",
    "    <center><img src=\"./images/logo-q-press-logo-red.png\" alt=\"Quantopian\" style=\"width: 100px;\"/></center>\n",
    "    <h3>max@quantopian.com</h3>\n",
    "</div>"
   ]
  },
  {
   "cell_type": "markdown",
   "metadata": {
    "slideshow": {
     "slide_type": "slide"
    }
   },
   "source": [
    "*This presentation is for informational purposes only and does not constitute an offer to sell, a solicitation to buy, or a recommendation for any security; nor does it constitute an offer to provide investment advisory or other services by Quantopian, Inc. (\"Quantopian\"). Nothing contained herein constitutes investment advice or offers any opinion with respect to the suitability of any security, and any views expressed herein should not be taken as advice to buy, sell, or hold any security or as an endorsement of any security or company. In preparing the information contained herein, Quantopian, Inc. has not taken into account the investment needs, objectives, and financial circumstances of any particular investor. Any views expressed and data illustrated herein were prepared based upon information, believed to be reliable, available to Quantopian, Inc. at the time of publication. Quantopian makes no guarantees as to their accuracy or completeness. All information is subject to change and may quickly become unreliable for various reasons, including changes in market conditions or economic circumstances.*"
   ]
  },
  {
   "cell_type": "code",
   "execution_count": 6,
   "metadata": {
    "slideshow": {
     "slide_type": "skip"
    }
   },
   "outputs": [
    {
     "name": "stdout",
     "output_type": "stream",
     "text": [
      "[NbConvertApp] Converting notebook ./Buying_Happiness_Talk.ipynb to slides\n",
      "[NbConvertApp] Writing 285959 bytes to ./Buying_Happiness_Talk.slides.html\n"
     ]
    }
   ],
   "source": [
    "!jupyter nbconvert --to slides ./Buying_Happiness_Talk.ipynb --reveal-prefix=http://cdnjs.cloudflare.com/ajax/libs/reveal.js/3.2.0"
   ]
  },
  {
   "cell_type": "code",
   "execution_count": null,
   "metadata": {
    "collapsed": true,
    "slideshow": {
     "slide_type": "skip"
    }
   },
   "outputs": [],
   "source": []
  }
 ],
 "metadata": {
  "celltoolbar": "Slideshow",
  "kernelspec": {
   "display_name": "Python 3",
   "language": "python",
   "name": "python3"
  },
  "language_info": {
   "codemirror_mode": {
    "name": "ipython",
    "version": 3
   },
   "file_extension": ".py",
   "mimetype": "text/x-python",
   "name": "python",
   "nbconvert_exporter": "python",
   "pygments_lexer": "ipython3",
   "version": "3.6.1"
  }
 },
 "nbformat": 4,
 "nbformat_minor": 2
}
