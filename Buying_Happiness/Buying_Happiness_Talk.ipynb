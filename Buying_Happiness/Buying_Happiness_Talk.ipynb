{
 "cells": [
  {
   "cell_type": "markdown",
   "metadata": {
    "slideshow": {
     "slide_type": "slide"
    }
   },
   "source": [
    "<center>\n",
    "    <h1>Buying Happiness</h1>\n",
    "\n",
    "    <h2>Turning Words Into Numbers for Maximum Utility</h2>\n",
    "    <img src=\"./images/logo-q-press-logo-red.png\" alt=\"Quantopian\" style=\"width: 200px;\"/>\n",
    "    \n",
    "    <h4>Max Margenot</h4>\n",
    "    <h4>Lead - Data Science/Academia</h4>\n",
    "</center>"
   ]
  },
  {
   "cell_type": "markdown",
   "metadata": {
    "slideshow": {
     "slide_type": "slide"
    }
   },
   "source": [
    "*This presentation is for informational purposes only and does not constitute an offer to sell, a solicitation to buy, or a recommendation for any security; nor does it constitute an offer to provide investment advisory or other services by Quantopian, Inc. (\"Quantopian\"). Nothing contained herein constitutes investment advice or offers any opinion with respect to the suitability of any security, and any views expressed herein should not be taken as advice to buy, sell, or hold any security or as an endorsement of any security or company. In preparing the information contained herein, Quantopian, Inc. has not taken into account the investment needs, objectives, and financial circumstances of any particular investor. Any views expressed and data illustrated herein were prepared based upon information, believed to be reliable, available to Quantopian, Inc. at the time of publication. Quantopian makes no guarantees as to their accuracy or completeness. All information is subject to change and may quickly become unreliable for various reasons, including changes in market conditions or economic circumstances.*"
   ]
  },
  {
   "cell_type": "markdown",
   "metadata": {
    "slideshow": {
     "slide_type": "slide"
    }
   },
   "source": [
    "## Natural Language Processing (NLP)\n",
    "\n",
    "* Computer science and linguistics tools to interpret human language and text\n",
    "* Allows us to quantify unstructured text"
   ]
  },
  {
   "cell_type": "markdown",
   "metadata": {
    "slideshow": {
     "slide_type": "slide"
    }
   },
   "source": [
    "## Data Processing"
   ]
  },
  {
   "cell_type": "markdown",
   "metadata": {
    "slideshow": {
     "slide_type": "-"
    }
   },
   "source": [
    "* Stopwords\n",
    "* Stemming\n",
    "* Tokenization"
   ]
  },
  {
   "cell_type": "markdown",
   "metadata": {
    "slideshow": {
     "slide_type": "slide"
    }
   },
   "source": [
    "## Feature Generation"
   ]
  },
  {
   "cell_type": "markdown",
   "metadata": {
    "slideshow": {
     "slide_type": "fragment"
    }
   },
   "source": [
    "### Bag of Words"
   ]
  },
  {
   "cell_type": "markdown",
   "metadata": {
    "slideshow": {
     "slide_type": "fragment"
    }
   },
   "source": [
    "#### Unigrams"
   ]
  },
  {
   "cell_type": "code",
   "execution_count": 13,
   "metadata": {
    "slideshow": {
     "slide_type": "-"
    }
   },
   "outputs": [
    {
     "data": {
      "text/plain": [
       "[['Show', 'me', 'the', 'alpha'], ['Carthago', 'delenda', 'est']]"
      ]
     },
     "execution_count": 13,
     "metadata": {},
     "output_type": "execute_result"
    }
   ],
   "source": [
    "my_phrases = ['Show me the alpha', 'Carthago delenda est',]\n",
    "[phrase.split(' ') for phrase in my_phrases]"
   ]
  },
  {
   "cell_type": "markdown",
   "metadata": {
    "slideshow": {
     "slide_type": "fragment"
    }
   },
   "source": [
    "#### Bigrams"
   ]
  },
  {
   "cell_type": "code",
   "execution_count": 10,
   "metadata": {
    "slideshow": {
     "slide_type": "-"
    }
   },
   "outputs": [
    {
     "data": {
      "text/plain": [
       "[('Show', 'me'),\n",
       " ('me', 'the'),\n",
       " ('the', 'alpha'),\n",
       " ('Carthago', 'delenda'),\n",
       " ('delenda', 'est')]"
      ]
     },
     "execution_count": 10,
     "metadata": {},
     "output_type": "execute_result"
    }
   ],
   "source": [
    "[word for phrase \n",
    " in my_phrases for word\n",
    "     in zip(phrase.split(' ')[:-1], phrase.split(' ')[1:])]"
   ]
  },
  {
   "cell_type": "markdown",
   "metadata": {
    "slideshow": {
     "slide_type": "slide"
    }
   },
   "source": [
    "## Feature Generation\n",
    "\n",
    "### Word Embeddings"
   ]
  },
  {
   "cell_type": "code",
   "execution_count": 3,
   "metadata": {
    "collapsed": true,
    "slideshow": {
     "slide_type": "skip"
    }
   },
   "outputs": [],
   "source": [
    "import gensim\n",
    "w2v = gensim.models.Word2Vec.load('../../sensitivipy/d2v')"
   ]
  },
  {
   "cell_type": "code",
   "execution_count": 9,
   "metadata": {
    "slideshow": {
     "slide_type": "fragment"
    }
   },
   "outputs": [
    {
     "name": "stdout",
     "output_type": "stream",
     "text": [
      "[ -1.89863455e+00  -1.54665136e+00  -2.23204970e+00  -1.30877733e+00\n",
      "  -2.30061579e+00  -1.70134628e+00   1.83337653e+00  -2.08741140e+00\n",
      "   3.23724604e+00   1.26184821e+00  -9.99662220e-01  -4.37552959e-01\n",
      "   4.40503418e-01   1.19143569e+00  -2.29179478e+00  -1.86814177e+00\n",
      "   3.11535645e+00   1.62474096e+00   2.66866231e+00   2.83645630e+00\n",
      "  -1.28488052e+00   1.35040748e+00   1.01865172e+00  -4.80658680e-01\n",
      "   4.23388511e-01  -1.65452003e+00   9.91536558e-01   2.40602851e+00\n",
      "  -7.76076317e-01   1.94842303e+00   7.72831738e-01   7.38338292e-01\n",
      "  -2.83442521e+00   6.60653114e-01   1.49878132e+00   6.51400387e-01\n",
      "  -2.40639806e+00  -1.07167780e+00  -1.02165806e+00   9.60173905e-01\n",
      "   2.21353650e+00  -1.42129743e+00  -9.27708030e-01  -3.88164580e-01\n",
      "   1.46669912e+00   8.52385104e-01   5.12198329e-01  -4.31529015e-01\n",
      "   2.94047624e-01   1.53495061e+00   2.58021164e+00  -5.14630191e-02\n",
      "  -1.65423024e+00   1.98876739e+00  -3.05596733e+00   4.68582273e-01\n",
      "  -7.30318785e-01  -2.12546796e-01   2.40485692e+00   2.02279878e+00\n",
      "   1.17719293e+00   2.86357617e+00   7.22466826e-01   2.82972664e-01\n",
      "  -7.58317888e-01   3.47945952e+00   3.73739266e+00   1.42169583e+00\n",
      "  -7.90117681e-01   1.84042037e+00   1.98835433e+00   1.78161597e+00\n",
      "   2.36412417e-03  -4.24685836e-01  -1.56673503e+00   1.27409828e+00\n",
      "  -7.06087649e-01   5.39561808e-01  -2.57677864e-02  -2.28654718e+00\n",
      "  -1.61694837e+00   1.12416410e+00   1.56511533e+00   9.97117162e-01\n",
      "  -1.62680793e+00  -5.11504531e-01   2.35140419e+00   2.85187773e-02\n",
      "   9.96020317e-01   2.01621875e-01  -2.27278137e+00  -8.56919646e-01\n",
      "  -1.24364936e+00   1.93653297e+00  -1.74209273e+00  -2.66480112e+00\n",
      "  -1.75437510e+00  -2.04358786e-01  -3.64142150e-01   2.14454412e+00]\n"
     ]
    }
   ],
   "source": [
    "print(w2v.wv['sad'])"
   ]
  },
  {
   "cell_type": "code",
   "execution_count": 98,
   "metadata": {
    "slideshow": {
     "slide_type": "skip"
    }
   },
   "outputs": [],
   "source": [
    "import pandas as pd\n",
    "wv_df = pd.DataFrame.from_dict({k : w2v.wv[k] for k in w2v.wv.vocab.keys()}, orient='index')\n",
    "from sklearn.manifold import TSNE\n",
    "from sklearn.cluster import DBSCAN\n",
    "from sklearn.preprocessing import StandardScaler\n",
    "scaled_wv_df = StandardScaler().fit_transform(wv_df)\n",
    "clustered_wv_df = DBSCAN(eps=0.2, min_samples=3, metric='cosine').fit(scaled_wv_df)\n",
    "dim_red = TSNE().fit_transform(wv_df)"
   ]
  },
  {
   "cell_type": "code",
   "execution_count": 186,
   "metadata": {
    "slideshow": {
     "slide_type": "skip"
    }
   },
   "outputs": [],
   "source": [
    "import matplotlib.pyplot as plt\n",
    "import matplotlib.patches as mpatches\n",
    "def plot_embedded_clusters(embedding, labels, legend=None, include_noisy_points=False):\n",
    "    plt.figure(figsize=(13,9))\n",
    "    unique_labels = np.unique(labels)\n",
    "    n_clusters_ = len(unique_labels) - (1 if -1 in labels else 0)\n",
    "    colors = [plt.cm.Spectral(each) for each in np.linspace(0, 1, len(unique_labels))]\n",
    "    handles = []\n",
    "    np.random.shuffle(unique_labels)\n",
    "    for label, c in zip(unique_labels, colors):\n",
    "        if label == -1:\n",
    "            c = [0, 0, 0, 1]\n",
    "            if not include_noisy_points:\n",
    "                continue\n",
    "        plt.scatter(embedding[labels==label, 0], embedding[labels==label,1], alpha=0.05, color=c)\n",
    "        \n",
    "        if legend and (label in legend):\n",
    "            handles.append(\n",
    "                mpatches.Patch(\n",
    "                    color=c,\n",
    "                    label='Words Similar to: {0}'.format(wv_df[clustered_wv_df.labels_==label].index[0])\n",
    "                )\n",
    "            )\n",
    "            plt.scatter(embedding[labels==label, 0], embedding[labels==label,1], alpha=0.80, color=c, marker='x');\n",
    "    if legend:\n",
    "        plt.legend(handles=handles);\n",
    "    \n",
    "    plt.title('%d Clusters Embedded in 2d' % n_clusters_);\n",
    "    plt.show()"
   ]
  },
  {
   "cell_type": "markdown",
   "metadata": {
    "slideshow": {
     "slide_type": "slide"
    }
   },
   "source": [
    "## Feature Generation\n",
    "\n",
    "### Word Embeddings"
   ]
  },
  {
   "cell_type": "code",
   "execution_count": 5,
   "metadata": {
    "slideshow": {
     "slide_type": "-"
    }
   },
   "outputs": [
    {
     "data": {
      "text/plain": [
       "[('upset', 0.815515398979187),\n",
       " ('depress', 0.7984983921051025),\n",
       " ('bum', 0.7161489725112915),\n",
       " ('devast', 0.7080429792404175),\n",
       " ('disappoint', 0.6943762302398682),\n",
       " ('angri', 0.658515453338623),\n",
       " ('sadd', 0.6404643058776855),\n",
       " ('embarrass', 0.6364743709564209),\n",
       " ('gut', 0.6311415433883667),\n",
       " ('unhappi', 0.6310410499572754)]"
      ]
     },
     "execution_count": 5,
     "metadata": {},
     "output_type": "execute_result"
    }
   ],
   "source": [
    "w2v.wv.most_similar('sad')"
   ]
  },
  {
   "cell_type": "code",
   "execution_count": 188,
   "metadata": {
    "slideshow": {
     "slide_type": "slide"
    }
   },
   "outputs": [
    {
     "data": {
      "image/png": "[encoded data removed]",
      "text/plain": [
       "<matplotlib.figure.Figure at 0x136b4afd0>"
      ]
     },
     "metadata": {},
     "output_type": "display_data"
    }
   ],
   "source": [
    "plot_embedded_clusters(dim_red, clustered_wv_df.labels_, legend=[4, 9, 11])"
   ]
  },
  {
   "cell_type": "markdown",
   "metadata": {
    "slideshow": {
     "slide_type": "slide"
    }
   },
   "source": [
    "## The Data"
   ]
  },
  {
   "cell_type": "markdown",
   "metadata": {
    "slideshow": {
     "slide_type": "fragment"
    }
   },
   "source": [
    "<center><img src=\"./images/twitter_logo.png\"></center>"
   ]
  },
  {
   "cell_type": "markdown",
   "metadata": {
    "slideshow": {
     "slide_type": "slide"
    }
   },
   "source": [
    "## Sentiment140\n",
    "\n",
    "* Twitter sentiment dataset"
   ]
  },
  {
   "cell_type": "markdown",
   "metadata": {
    "slideshow": {
     "slide_type": "slide"
    }
   },
   "source": [
    "## My Approach"
   ]
  },
  {
   "cell_type": "markdown",
   "metadata": {
    "slideshow": {
     "slide_type": "fragment"
    }
   },
   "source": [
    "* Logistic Regression with Bag of Words"
   ]
  },
  {
   "cell_type": "markdown",
   "metadata": {
    "slideshow": {
     "slide_type": "fragment"
    }
   },
   "source": [
    "* Neural Network with Word Embeddings"
   ]
  },
  {
   "cell_type": "markdown",
   "metadata": {
    "slideshow": {
     "slide_type": "slide"
    }
   },
   "source": [
    "## Logistic Regression"
   ]
  },
  {
   "cell_type": "markdown",
   "metadata": {
    "slideshow": {
     "slide_type": "-"
    }
   },
   "source": [
    "\\begin{eqnarray}\n",
    "g(X) &=& \\alpha + \\beta_0 X_0 + \\cdots + \\beta_n X_N \\\\\n",
    "F(X) &=& \\frac{1}{1 + e^{-g(X)}}\n",
    "\\end{eqnarray}"
   ]
  },
  {
   "cell_type": "markdown",
   "metadata": {
    "slideshow": {
     "slide_type": "fragment"
    }
   },
   "source": [
    "* Friendly, familiar linear model\n",
    "* Easy to interpret and understand"
   ]
  },
  {
   "cell_type": "markdown",
   "metadata": {
    "slideshow": {
     "slide_type": "slide"
    }
   },
   "source": [
    "## Logistic Regression Coefficients\n",
    "\n",
    "<center>\n",
    "<img src=\"./images/logistic_regression_coefficients.png\" alt=\"logistic_regression_coefficients\" style=\"width:800px;\"/>\n",
    "</center>"
   ]
  },
  {
   "cell_type": "markdown",
   "metadata": {
    "slideshow": {
     "slide_type": "slide"
    }
   },
   "source": [
    "## Results"
   ]
  },
  {
   "cell_type": "markdown",
   "metadata": {
    "slideshow": {
     "slide_type": "fragment"
    }
   },
   "source": [
    "<img src=\"./images/is_logistic_model.png\" alt=\"Logistic Regression Accuracy\" style=\"width: 800px;\"/>"
   ]
  },
  {
   "cell_type": "markdown",
   "metadata": {
    "slideshow": {
     "slide_type": "fragment"
    }
   },
   "source": [
    "<img src=\"./images/oos_logistic_model.png\" alt=\"Logistic Regression Accuracy\" style=\"width: 800px;\"/>"
   ]
  },
  {
   "cell_type": "markdown",
   "metadata": {
    "slideshow": {
     "slide_type": "slide"
    }
   },
   "source": [
    "## Neural Networks"
   ]
  },
  {
   "cell_type": "markdown",
   "metadata": {
    "slideshow": {
     "slide_type": "-"
    }
   },
   "source": [
    "<center>\n",
    "<img src=\"./images/basic_neural_network.png\" alt=\"Neural Network\" style=\"width: 400px;\"/>\n",
    "</center>"
   ]
  },
  {
   "cell_type": "markdown",
   "metadata": {
    "slideshow": {
     "slide_type": "slide"
    }
   },
   "source": [
    "## Neural Networks"
   ]
  },
  {
   "cell_type": "markdown",
   "metadata": {
    "slideshow": {
     "slide_type": "-"
    }
   },
   "source": [
    "<center>\n",
    "<img src=\"./images/neural_network.png\" alt=\"Neural Network\" style=\"width: 400px;\"/>\n",
    "</center>"
   ]
  },
  {
   "cell_type": "markdown",
   "metadata": {
    "slideshow": {
     "slide_type": "slide"
    }
   },
   "source": [
    "## Recurrent Neural Networks"
   ]
  },
  {
   "cell_type": "markdown",
   "metadata": {
    "slideshow": {
     "slide_type": "-"
    }
   },
   "source": [
    "<center>\n",
    "<img src=\"./images/recurrent_neural_network.png\" alt=\"Recurrent Neural Network\" style=\"width: 400px;\"/>\n",
    "</center>"
   ]
  },
  {
   "cell_type": "markdown",
   "metadata": {
    "slideshow": {
     "slide_type": "slide"
    }
   },
   "source": [
    "## Recurrent Neural Networks\n",
    "\n",
    "* Recurrent neural networks good for text processing\n",
    "* View sentences as sequences of words\n",
    "    * Similar to time series structure"
   ]
  },
  {
   "cell_type": "markdown",
   "metadata": {
    "slideshow": {
     "slide_type": "slide"
    }
   },
   "source": [
    "## Long Short-term Memory Networks"
   ]
  },
  {
   "cell_type": "markdown",
   "metadata": {
    "slideshow": {
     "slide_type": "-"
    }
   },
   "source": [
    "<center>\n",
    "<img src=\"./images/lstm.svg\" alt=\"Long Short-term Memory Network\" style=\"width: 800px;\"/>\n",
    "</center>"
   ]
  },
  {
   "cell_type": "markdown",
   "metadata": {
    "slideshow": {
     "slide_type": "slide"
    }
   },
   "source": [
    "## Long Short-term Memory Networks\n",
    "\n",
    "* In Keras this is simple to implement"
   ]
  },
  {
   "cell_type": "code",
   "execution_count": null,
   "metadata": {
    "collapsed": true,
    "slideshow": {
     "slide_type": "-"
    }
   },
   "outputs": [],
   "source": [
    "input_layer = Input(shape=(MAX_WORDS,))\n",
    "embedding_layer = Embedding(max_features+1,\n",
    "                            embedding_dim,\n",
    "                            input_length=MAX_WORDS)(input_layer)\n",
    "lstm_layer = LSTM(64,\n",
    "                  dropout=DROPOUT,\n",
    "                  activation='tanh',\n",
    "                  return_sequences=True)(embedding_layer)\n",
    "lstm_layer = LSTM(128,\n",
    "                  dropout=DROPOUT,\n",
    "                  activation='tanh')(lstm_layer)\n",
    "output = Dense(1,\n",
    "               activation='sigmoid',\n",
    "               name='sentiment')(lstm_layer)"
   ]
  },
  {
   "cell_type": "markdown",
   "metadata": {
    "slideshow": {
     "slide_type": "slide"
    }
   },
   "source": [
    "## Results"
   ]
  },
  {
   "cell_type": "markdown",
   "metadata": {
    "slideshow": {
     "slide_type": "fragment"
    }
   },
   "source": [
    "<center>\n",
    "<img src=\"./images/nn_training.png\" alt=\"Neural Network Training\" style=\"width: 800px;\"/>\n",
    "</center>"
   ]
  },
  {
   "cell_type": "markdown",
   "metadata": {
    "slideshow": {
     "slide_type": "slide"
    }
   },
   "source": [
    "<center>\n",
    "<img src=\"./images/presidential_seal.png\" alt=\"USA\" style=\"width: 400px;\"/>\n",
    "</center>"
   ]
  },
  {
   "cell_type": "markdown",
   "metadata": {
    "slideshow": {
     "slide_type": "slide"
    }
   },
   "source": [
    "## How to Compute A Signal?\n",
    "\n",
    "* Hypothesis: POTUS's tweets affect the market"
   ]
  },
  {
   "cell_type": "markdown",
   "metadata": {
    "slideshow": {
     "slide_type": "slide"
    }
   },
   "source": [
    "## Precedent"
   ]
  },
  {
   "cell_type": "markdown",
   "metadata": {
    "slideshow": {
     "slide_type": "fragment"
    }
   },
   "source": [
    "* Trump2Cash: https://github.com/maxbbraun/trump2cash\n",
    "    * Waits for the president to mention publicly-traded companies\n",
    "    * Uses sentiment analysis to determine positivity or negativity\n",
    "    * Enters long or short positions based on sentiment"
   ]
  },
  {
   "cell_type": "markdown",
   "metadata": {
    "slideshow": {
     "slide_type": "fragment"
    }
   },
   "source": [
    "* BOTUS: https://twitter.com/botus\n",
    "    * Waits for the president to mention publicly-traded companies\n",
    "    * Uses sentiment analysis to determine positivity or negativity\n",
    "    * Enters long or short positions based on sentiment"
   ]
  },
  {
   "cell_type": "markdown",
   "metadata": {
    "slideshow": {
     "slide_type": "fragment"
    }
   },
   "source": [
    "* Trump & Dump: https://www.t-3.com/work/the-trump-and-dump-bot-analyze-tweets-short-stocks-save-puppies-all-in-seconds\n",
    "    * Waits for the president to mention publicly-traded companies\n",
    "    * Uses sentiment analysis to determine positivity or negativity\n",
    "    * Enters short positions based if sentiment is negative"
   ]
  },
  {
   "cell_type": "markdown",
   "metadata": {
    "slideshow": {
     "slide_type": "slide"
    }
   },
   "source": [
    "# Factor Models\n",
    "\n",
    "* CAPM\n",
    "\n",
    "$$ r_p = \\alpha + \\beta_{m} r_{m} $$\n",
    "\n",
    "* Fama-French Factors\n",
    "\n",
    "$$ r_p = \\alpha + \\beta_{m} r_{m} + \\beta_{hml} r_{hml} + \\beta_{smb} r_{smb} $$\n",
    "\n",
    "* Alternative Factors\n",
    "\n",
    "$$ r_p = \\alpha + \\beta_0 r_0 + \\cdots + \\beta_n r_n $$"
   ]
  },
  {
   "cell_type": "markdown",
   "metadata": {
    "slideshow": {
     "slide_type": "slide"
    }
   },
   "source": [
    "## 30-day Moving Average of Sentiment\n",
    "\n",
    "<img src=\"./images/rolling_sentiment.png\" alt=\"Sentiment Score\" style=\"width: 800px;\"/>"
   ]
  },
  {
   "cell_type": "markdown",
   "metadata": {
    "slideshow": {
     "slide_type": "slide"
    }
   },
   "source": [
    "## Sentiment Exposure Signal\n",
    "\n",
    "<img src=\"./images/return_buckets.png\" alt=\"Mean Return Buckets\" style=\"width: 800px;\"/>"
   ]
  },
  {
   "cell_type": "markdown",
   "metadata": {
    "slideshow": {
     "slide_type": "slide"
    }
   },
   "source": [
    "## Sentiment Exposure Signal\n",
    "\n",
    "<img src=\"./images/cumulative_return.png\" alt=\"Cumulative Returns\" style=\"width: 800px;\"/>"
   ]
  },
  {
   "cell_type": "markdown",
   "metadata": {
    "slideshow": {
     "slide_type": "slide"
    }
   },
   "source": [
    "## Sentiment Exposure Signal\n",
    "\n",
    "<img src=\"./images/cumulative_return_buckets.png\" alt=\"Cumulative Return Buckets\" style=\"width: 800px;\"/>"
   ]
  },
  {
   "cell_type": "markdown",
   "metadata": {
    "slideshow": {
     "slide_type": "slide"
    }
   },
   "source": [
    "## Risk Analysis"
   ]
  },
  {
   "cell_type": "markdown",
   "metadata": {
    "slideshow": {
     "slide_type": "-"
    }
   },
   "source": [
    "<img src=\"./images/sentiment_beta_risk_exposures.png\" alt=\"Risk Exposures\" style=\"width: 800px;\"/>"
   ]
  },
  {
   "cell_type": "markdown",
   "metadata": {
    "slideshow": {
     "slide_type": "slide"
    }
   },
   "source": [
    "## Returns Breakdown"
   ]
  },
  {
   "cell_type": "markdown",
   "metadata": {
    "slideshow": {
     "slide_type": "-"
    }
   },
   "source": [
    "<img src=\"./images/returns_breakdown.png\" alt=\"Common and Specific Returns\" style=\"width: 800px;\"/>"
   ]
  },
  {
   "cell_type": "markdown",
   "metadata": {
    "slideshow": {
     "slide_type": "slide"
    }
   },
   "source": [
    "## Returns Breakdown"
   ]
  },
  {
   "cell_type": "markdown",
   "metadata": {
    "slideshow": {
     "slide_type": "-"
    }
   },
   "source": [
    "<img src=\"./images/returns_breakdown_cumulative.png\" alt=\"Common and Specific Returns\" style=\"width: 800px;\"/>"
   ]
  },
  {
   "cell_type": "markdown",
   "metadata": {
    "slideshow": {
     "slide_type": "slide"
    }
   },
   "source": [
    "## Possible Improvements\n",
    "\n",
    "### Sentiment Model\n",
    "* Lemmatization instead of Stemming\n",
    "* Sense2Vec\n",
    "\n",
    "### The Signal\n",
    "* Smarter smoothing methodology than moving average"
   ]
  },
  {
   "cell_type": "markdown",
   "metadata": {
    "slideshow": {
     "slide_type": "slide"
    }
   },
   "source": [
    "## Tools\n",
    "\n",
    "* Natural Language Toolkit (NLTK): http://www.nltk.org/\n",
    "* scikit-learn: https://github.com/scikit-learn/scikit-learn\n",
    "* Gensim: https://github.com/RaRe-Technologies/gensim\n",
    "* Keras: https://github.com/fchollet/keras\n",
    "* Alphalens: https://github.com/quantopian/alphalens\n",
    "* Pyfolio: https://github.com/quantopian/pyfolio\n",
    "\n",
    "\n",
    "* Quantopian Research: https://www.quantopian.com/research\n",
    "* Quantopian Lecture Series: https://www.quantopian.com/lectures\n",
    "\n",
    "## References\n",
    "\n",
    "* Go, A., Bhayani, R. and Huang, L., 2009. Twitter sentiment classification using distant supervision. CS224N Project Report, Stanford, 1(2009), p.12.\n",
    "    * http://www.sentiment140.com/"
   ]
  },
  {
   "cell_type": "markdown",
   "metadata": {
    "slideshow": {
     "slide_type": "slide"
    }
   },
   "source": [
    "<div style=\"text-align:center\">\n",
    "    <center><img src=\"./images/twitter_logo.png\" alt='Twitter' style=\"width: 50px;\"/></center>\n",
    "    <h3>@clean_utensils</h3>\n",
    "</div>\n",
    "\n",
    "<div style=\"text-align:center\">\n",
    "    <center><img src=\"./images/github_logo.png\" alt=\"Github\" style=\"width: 50px;\"/></center>\n",
    "    <h3>@mmargenot</h3>\n",
    "</div>\n",
    "\n",
    "<div style=\"text-align:center\">\n",
    "    <center><img src=\"./images/logo-q-press-logo-red.png\" alt=\"Quantopian\" style=\"width: 100px;\"/></center>\n",
    "    <h3>max@quantopian.com</h3>\n",
    "</div>"
   ]
  },
  {
   "cell_type": "markdown",
   "metadata": {
    "slideshow": {
     "slide_type": "slide"
    }
   },
   "source": [
    "*This presentation is for informational purposes only and does not constitute an offer to sell, a solicitation to buy, or a recommendation for any security; nor does it constitute an offer to provide investment advisory or other services by Quantopian, Inc. (\"Quantopian\"). Nothing contained herein constitutes investment advice or offers any opinion with respect to the suitability of any security, and any views expressed herein should not be taken as advice to buy, sell, or hold any security or as an endorsement of any security or company. In preparing the information contained herein, Quantopian, Inc. has not taken into account the investment needs, objectives, and financial circumstances of any particular investor. Any views expressed and data illustrated herein were prepared based upon information, believed to be reliable, available to Quantopian, Inc. at the time of publication. Quantopian makes no guarantees as to their accuracy or completeness. All information is subject to change and may quickly become unreliable for various reasons, including changes in market conditions or economic circumstances.*"
   ]
  },
  {
   "cell_type": "code",
   "execution_count": 190,
   "metadata": {
    "slideshow": {
     "slide_type": "skip"
    }
   },
   "outputs": [
    {
     "name": "stdout",
     "output_type": "stream",
     "text": [
      "[NbConvertApp] Converting notebook ./Buying_Happiness_Talk.ipynb to slides\n",
      "[NbConvertApp] Writing 388910 bytes to ./Buying_Happiness_Talk.slides.html\n"
     ]
    }
   ],
   "source": [
    "!jupyter nbconvert --to slides ./Buying_Happiness_Talk.ipynb --reveal-prefix=http://cdnjs.cloudflare.com/ajax/libs/reveal.js/3.2.0"
   ]
  },
  {
   "cell_type": "code",
   "execution_count": null,
   "metadata": {
    "collapsed": true,
    "slideshow": {
     "slide_type": "skip"
    }
   },
   "outputs": [],
   "source": []
  }
 ],
 "metadata": {
  "celltoolbar": "Slideshow",
  "kernelspec": {
   "display_name": "Python 2",
   "language": "python",
   "name": "python2"
  }
 },
 "nbformat": 4,
 "nbformat_minor": 2
}
