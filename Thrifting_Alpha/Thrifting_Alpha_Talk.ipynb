{
 "cells": [
  {
   "cell_type": "markdown",
   "metadata": {
    "slideshow": {
     "slide_type": "slide"
    }
   },
   "source": [
    "<center>\n",
    "    <h1>Thrifting Alpha</h1>\n",
    "\n",
    "    <h2>Revitalizing Tired Alpha Factors Using Ensemble Learning</h2>\n",
    "    <img src=\"./images/logo-q-press-logo-red.png\" alt=\"Quantopian\" style=\"width: 200px;\"/>\n",
    "    \n",
    "    <h4>Max Margenot</h4>\n",
    "    <h4>Lead - Data Science/Academia</h4>\n",
    "</center>"
   ]
  },
  {
   "cell_type": "markdown",
   "metadata": {
    "slideshow": {
     "slide_type": "slide"
    }
   },
   "source": [
    "*This presentation is for informational purposes only and does not constitute an offer to sell, a solicitation to buy, or a recommendation for any security; nor does it constitute an offer to provide investment advisory or other services by Quantopian, Inc. (\"Quantopian\"). Nothing contained herein constitutes investment advice or offers any opinion with respect to the suitability of any security, and any views expressed herein should not be taken as advice to buy, sell, or hold any security or as an endorsement of any security or company.  In preparing the information contained herein, Quantopian, Inc. has not taken into account the investment needs, objectives, and financial circumstances of any particular investor. Any views expressed and data illustrated herein were prepared based upon information, believed to be reliable, available to Quantopian, Inc. at the time of publication. Quantopian makes no guarantees as to their accuracy or completeness. All information is subject to change and may quickly become unreliable for various reasons, including changes in market conditions or economic circumstances.*"
   ]
  },
  {
   "cell_type": "markdown",
   "metadata": {
    "slideshow": {
     "slide_type": "slide"
    }
   },
   "source": [
    "## What is an Alpha Factor?\n",
    "\n",
    "* Also known as a Risk Factor\n",
    "* Alternative risk premium"
   ]
  },
  {
   "cell_type": "markdown",
   "metadata": {
    "slideshow": {
     "slide_type": "slide"
    }
   },
   "source": [
    "## Popularity of Factor Models\n",
    "\n",
    "* \"Smart Beta\"\n",
    "* Diversify with specific premia\n",
    "* Analyze risk\n",
    "* Increase returns"
   ]
  },
  {
   "cell_type": "markdown",
   "metadata": {
    "slideshow": {
     "slide_type": "fragment"
    }
   },
   "source": [
    "* 87% of institutional investors incorporating factors into investment process\\*\n",
    "* 67% of into risk management process\\*\n",
    "* 53% of into investment strategies\\*\n",
    "\n",
    "\n",
    "\\*\"The rise of factor investing.\" BlackRock. 7 Apr. 2017"
   ]
  },
  {
   "cell_type": "markdown",
   "metadata": {
    "slideshow": {
     "slide_type": "slide"
    }
   },
   "source": [
    "## Constructing a Factor Model\n",
    "\n",
    "* CAPM\n",
    "\n",
    "$$ r_p = \\alpha + \\beta_{m} r_{m} $$\n",
    "\n",
    "* Fama-French Factors\n",
    "\n",
    "$$ r_p = \\alpha + \\beta_{m} r_{m} + \\beta_{hml} r_{hml} + \\beta_{smb} r_{smb} $$\n",
    "\n",
    "* Alternative Factors\n",
    "\n",
    "$$ r_p = \\alpha + \\beta_0 r_0 + \\cdots + \\beta_n r_n $$"
   ]
  },
  {
   "cell_type": "markdown",
   "metadata": {
    "slideshow": {
     "slide_type": "slide"
    }
   },
   "source": [
    "## Using a Factor Model\n",
    "\n",
    "* A few different ways to do this, once you have decided on your factors\n",
    "* Compute exposures to your factor\n",
    "* Use the exposures to create your portfolio"
   ]
  },
  {
   "cell_type": "markdown",
   "metadata": {
    "slideshow": {
     "slide_type": "slide"
    }
   },
   "source": [
    "## Main Factors\n",
    "\n",
    "* Value\n",
    "* Momentum\n",
    "* Quality\n",
    "* Volatility\n",
    "* Growth"
   ]
  },
  {
   "cell_type": "markdown",
   "metadata": {
    "slideshow": {
     "slide_type": "slide"
    }
   },
   "source": [
    "## The Method\n",
    "\n",
    "* Long-short Equity\n",
    "    * Rank all securities in your universe from lowest factor exposure to highest\n",
    "    * Go long on the top percentile\n",
    "    * Go short on the bottom percentile"
   ]
  },
  {
   "cell_type": "markdown",
   "metadata": {
    "slideshow": {
     "slide_type": "slide"
    }
   },
   "source": [
    "## The Universe\n",
    "\n",
    "* Sufficient liquidity\n",
    "    * No \"hard-to-trade\" securities"
   ]
  },
  {
   "cell_type": "code",
   "execution_count": null,
   "metadata": {
    "collapsed": true,
    "slideshow": {
     "slide_type": "fragment"
    }
   },
   "outputs": [],
   "source": [
    "universe = QTradableStocksUS()"
   ]
  },
  {
   "cell_type": "markdown",
   "metadata": {
    "slideshow": {
     "slide_type": "fragment"
    }
   },
   "source": [
    "* https://www.quantopian.com/posts/working-on-our-best-universe-yet-qtradablestocksus"
   ]
  },
  {
   "cell_type": "markdown",
   "metadata": {
    "slideshow": {
     "slide_type": "slide"
    }
   },
   "source": [
    "## The Point\n",
    "\n",
    "* Predicting prices is hard\n",
    "* Trying to capture the relative value of the long and short baskets\n",
    "* Assuming that expected return of each security in the universe in proportional to factor value"
   ]
  },
  {
   "cell_type": "markdown",
   "metadata": {
    "slideshow": {
     "slide_type": "slide"
    }
   },
   "source": [
    "## Example Factor: Momentum"
   ]
  },
  {
   "cell_type": "code",
   "execution_count": null,
   "metadata": {
    "collapsed": true,
    "slideshow": {
     "slide_type": "fragment"
    }
   },
   "outputs": [],
   "source": [
    "class Advanced_Momentum(CustomFactor):\n",
    "        \"\"\" Momentum factor \"\"\"\n",
    "        inputs = [USEquityPricing.close,\n",
    "                  Returns(window_length=126)]\n",
    "        window_length = 252\n",
    "\n",
    "        def compute(self, today, assets, out, prices, returns):\n",
    "            out[:] = ((prices[-21] - prices[-252])/prices[-252] -\n",
    "                      (prices[-1] - prices[-21])/prices[-21]) / np.nanstd(returns, axis=0)"
   ]
  },
  {
   "cell_type": "markdown",
   "metadata": {
    "slideshow": {
     "slide_type": "subslide"
    }
   },
   "source": [
    "## Example Factor: Momentum\n",
    "\n",
    "<img src=\"./images/momentum_factor.png\" alt=\"Momentum Factor\" style=\"width: 800px;\"/>"
   ]
  },
  {
   "cell_type": "markdown",
   "metadata": {
    "slideshow": {
     "slide_type": "subslide"
    }
   },
   "source": [
    "## Example Factor: Momentum\n",
    "\n",
    "<img src=\"./images/momentum_factor_curve.png\" alt=\"Momentum Factor\" style=\"width: 800px;\"/>"
   ]
  },
  {
   "cell_type": "markdown",
   "metadata": {
    "slideshow": {
     "slide_type": "subslide"
    }
   },
   "source": [
    "## Example Factor: Momentum\n",
    "\n",
    "<img src=\"./images/momentum_factor_fingers.png\" alt=\"Momentum Factor\" style=\"width: 800px;\"/>"
   ]
  },
  {
   "cell_type": "markdown",
   "metadata": {
    "slideshow": {
     "slide_type": "slide"
    }
   },
   "source": [
    "## Other Factors in the Model\n",
    "\n",
    "<img src=\"./images/many_curves.png\" alt=\"Other Factors\" style=\"width: 1500px;\"/>"
   ]
  },
  {
   "cell_type": "markdown",
   "metadata": {
    "slideshow": {
     "slide_type": "slide"
    }
   },
   "source": [
    "## Workflow\n",
    "<img src=\"./images/quant_workflow.png\" alt=\"Quant Equity Workflow\" style=\"width: 800px;\"/>"
   ]
  },
  {
   "cell_type": "markdown",
   "metadata": {
    "slideshow": {
     "slide_type": "slide"
    }
   },
   "source": [
    "## Factor Aggregation\n",
    "\n",
    "* Factors can be seen as individual constructed assets\n",
    "* We can combine many to create a mega-factor\n",
    "* Weighting scheme between factors is up to us"
   ]
  },
  {
   "cell_type": "markdown",
   "metadata": {
    "slideshow": {
     "slide_type": "slide"
    }
   },
   "source": [
    "## Dynamic vs. Static Aggregation Methods\n",
    "\n",
    "* Static: Predetermined aggregate factor weighting\n",
    "* Dynamic: Changing weights based on their own performance"
   ]
  },
  {
   "cell_type": "markdown",
   "metadata": {
    "slideshow": {
     "slide_type": "slide"
    }
   },
   "source": [
    "## Static Equal-Weighted Factor Portfolio\n",
    "\n",
    "* Take all factors\n",
    "* Standardize them\n",
    "* Add them together"
   ]
  },
  {
   "cell_type": "markdown",
   "metadata": {
    "slideshow": {
     "slide_type": "subslide"
    }
   },
   "source": [
    "## Static Equal-Weighted Factor Portfolio\n",
    "\n",
    "<img src=\"./images/equal_weighted_factor_portfolio.png\" alt=\"Equal-weighted Portfolio\" style=\"width: 800px;\"/>"
   ]
  },
  {
   "cell_type": "markdown",
   "metadata": {
    "slideshow": {
     "slide_type": "subslide"
    }
   },
   "source": [
    "## Static Equal-Weighted Factor Portfolio\n",
    "\n",
    "<img src=\"./images/equal_weighted_factor_portfolio_curve.png\" alt=\"Equal-weighted Portfolio\" style=\"width: 800px;\"/>"
   ]
  },
  {
   "cell_type": "markdown",
   "metadata": {
    "slideshow": {
     "slide_type": "subslide"
    }
   },
   "source": [
    "## Static Equal-Weighted Factor Portfolio\n",
    "\n",
    "<img src=\"./images/equal_weighted_factor_portfolio_fingers.png\" alt=\"Equal-weighted Portfolio\" style=\"width: 800px;\"/>"
   ]
  },
  {
   "cell_type": "markdown",
   "metadata": {
    "slideshow": {
     "slide_type": "slide"
    }
   },
   "source": [
    "## Ensemble Learning\n",
    "\n",
    "* Obtain better predictive performance by aggregating many learning algorithms\n",
    "* Very difficult to find a good trading algorithm"
   ]
  },
  {
   "cell_type": "markdown",
   "metadata": {
    "slideshow": {
     "slide_type": "fragment"
    }
   },
   "source": [
    "* Combining \"meh\" stuff into \"okay\" stuff"
   ]
  },
  {
   "cell_type": "markdown",
   "metadata": {
    "slideshow": {
     "slide_type": "slide"
    }
   },
   "source": [
    "## Alpha Factors as Classifiers\n",
    "\n",
    "* We can reinterpret an alpha factor as a classifier\n",
    "* Relative value, classified as going up or going down based on predictor\n",
    "    * High factor values indicate that we expect the value to go up\n",
    "    * Low factor values indicate that we expect the value to go down\n",
    "* Truncate these into a classification problem."
   ]
  },
  {
   "cell_type": "markdown",
   "metadata": {
    "slideshow": {
     "slide_type": "slide"
    }
   },
   "source": [
    "## AdaBoost (Adaptive Boosting)\n",
    "\n",
    "$$ H(x) = sign\\left(\\sum_{t=1}^T \\alpha_t h_t(x)\\right) $$\n",
    "\n",
    "* where each $h_t(x)$ is the output of a weak classifier and $\\alpha_t$ is its weight\n",
    "* Linear combination of classifiers inside a non-linear function"
   ]
  },
  {
   "cell_type": "markdown",
   "metadata": {
    "slideshow": {
     "slide_type": "slide"
    }
   },
   "source": [
    "## Implementation\n",
    "\n",
    "* Mask factors into classifiers\n",
    "* Assume these factors are predictive over a month and predict returns 20 days into the future\n",
    "* Re-weight individual factors in aggregate based on performance\n",
    "* Profit?"
   ]
  },
  {
   "cell_type": "markdown",
   "metadata": {
    "slideshow": {
     "slide_type": "slide"
    }
   },
   "source": [
    "## Dynamically-Weighted Signal with AdaBoost\n",
    "\n",
    "* Build signal in research\n",
    "    * scikit-learn `AdaBoostClassifier`\n",
    "* 50/50 train/test split"
   ]
  },
  {
   "cell_type": "markdown",
   "metadata": {
    "slideshow": {
     "slide_type": "slide"
    }
   },
   "source": [
    "## Testing the Signal\n",
    "\n",
    "<img src=\"./images/train.png\" alt=\"AdaBoost Accuracy\" style=\"width: 800px;\"/>"
   ]
  },
  {
   "cell_type": "markdown",
   "metadata": {
    "slideshow": {
     "slide_type": "fragment"
    }
   },
   "source": [
    "<img src=\"./images/test.png\" alt=\"AdaBoost Accuracy\" style=\"width: 800px;\"/>"
   ]
  },
  {
   "cell_type": "markdown",
   "metadata": {
    "slideshow": {
     "slide_type": "slide"
    }
   },
   "source": [
    "## Feature Importances\n",
    "\n",
    "<img src=\"./images/feature_importances.png\" alt=\"AdaBoost Features\" style=\"width: 800px;\"/>"
   ]
  },
  {
   "cell_type": "markdown",
   "metadata": {
    "slideshow": {
     "slide_type": "slide"
    }
   },
   "source": [
    "## Dynamically-Weighted Signal with AdaBoost\n",
    "\n",
    "<img src=\"./images/boosted_factor_portfolio.png\" alt=\"Equal-weighted Portfolio\" style=\"width: 800px;\"/>"
   ]
  },
  {
   "cell_type": "markdown",
   "metadata": {
    "slideshow": {
     "slide_type": "subslide"
    }
   },
   "source": [
    "## Dynamically-Weighted Signal with AdaBoost\n",
    "\n",
    "<img src=\"./images/boosted_factor_portfolio_curve.png\" alt=\"Equal-weighted Portfolio\" style=\"width: 800px;\"/>"
   ]
  },
  {
   "cell_type": "markdown",
   "metadata": {
    "slideshow": {
     "slide_type": "subslide"
    }
   },
   "source": [
    "## Dynamically-Weighted Signal with AdaBoost\n",
    "\n",
    "<img src=\"./images/boosted_factor_portfolio_fingers.png\" alt=\"Equal-weighted Portfolio\" style=\"width: 800px;\"/>"
   ]
  },
  {
   "cell_type": "markdown",
   "metadata": {
    "slideshow": {
     "slide_type": "slide"
    }
   },
   "source": [
    "## Market Impact\n",
    "\n",
    "* It is not enough to find a signal\n",
    "    * Have to check if it is viable\n",
    "* Take into account commissions costs\n",
    "* Take into account slippage costs"
   ]
  },
  {
   "cell_type": "markdown",
   "metadata": {
    "slideshow": {
     "slide_type": "subslide"
    }
   },
   "source": [
    "<img src=\"./images/boosted_backtest_curve.png\" alt=\"Boosted factor in the backtester\" style=\"width: 800px;\"/>"
   ]
  },
  {
   "cell_type": "markdown",
   "metadata": {
    "slideshow": {
     "slide_type": "subslide"
    }
   },
   "source": [
    "## A Potential Culprit\n",
    "\n",
    "<img src=\"./images/boosted_backtest_turnover.png\" alt=\"Boosted factor in the backtester\" style=\"width: 800px;\"/>"
   ]
  },
  {
   "cell_type": "markdown",
   "metadata": {
    "slideshow": {
     "slide_type": "slide"
    }
   },
   "source": [
    "## Limitations of Model\n",
    "\n",
    "* Garbage in, garbage out\n",
    "    * Passing in better factors should ideally improve performance\n",
    "* AdaBoost is sensitive to noisy data and outliers\n",
    "    * Financial data is ugly\n",
    "    * A different ensemble classifier might improve performance\n",
    "* Maybe just more weak classifiers"
   ]
  },
  {
   "cell_type": "markdown",
   "metadata": {
    "slideshow": {
     "slide_type": "slide"
    }
   },
   "source": [
    "## Limitations of Platform\n",
    "\n",
    "* Limited training window for ML classifier\n",
    "* Limited backtest window"
   ]
  },
  {
   "cell_type": "markdown",
   "metadata": {
    "slideshow": {
     "slide_type": "slide"
    }
   },
   "source": [
    "## Tools\n",
    "\n",
    "* Alphalens: https://github.com/quantopian/alphalens\n",
    "* Pyfolio: https://github.com/quantopian/pyfolio\n",
    "* Zipline: https://github.com/quantopian/zipline\n",
    "* scikit-learn: https://github.com/scikit-learn/scikit-learn\n",
    "* Machine Learning on Quantopian forum post series:\n",
    "    * https://www.quantopian.com/posts/machine-learning-on-quantopian\n",
    "    * https://www.quantopian.com/posts/machine-learning-on-quantopian-part-2-ml-as-a-factor\n",
    "    * https://www.quantopian.com/posts/machine-learning-on-quantopian-part-3-building-an-algorithm\n",
    "\n",
    "\n",
    "* Quantopian Research: https://www.quantopian.com/research\n",
    "* Quantopian Lecture Series: https://www.quantopian.com/lectures"
   ]
  },
  {
   "cell_type": "markdown",
   "metadata": {
    "slideshow": {
     "slide_type": "slide"
    }
   },
   "source": [
    "<div style=\"text-align:center\">\n",
    "    <center><img src=\"./images/twitter_logo.png\" alt='Twitter' style=\"width: 50px;\"/></center>\n",
    "    <h3>@clean_utensils</h3>\n",
    "</div>\n",
    "\n",
    "<div style=\"text-align:center\">\n",
    "    <center><img src=\"./images/github_logo.png\" alt=\"Github\" style=\"width: 50px;\"/></center>\n",
    "    <h3>@mmargenot</h3>\n",
    "</div>\n",
    "\n",
    "<div style=\"text-align:center\">\n",
    "    <center><img src=\"./images/logo-q-press-logo-red.png\" alt=\"Quantopian\" style=\"width: 100px;\"/></center>\n",
    "    <h3>max@quantopian.com</h3>\n",
    "</div>"
   ]
  },
  {
   "cell_type": "markdown",
   "metadata": {
    "slideshow": {
     "slide_type": "slide"
    }
   },
   "source": [
    "*This presentation is for informational purposes only and does not constitute an offer to sell, a solicitation to buy, or a recommendation for any security; nor does it constitute an offer to provide investment advisory or other services by Quantopian, Inc. (\"Quantopian\"). Nothing contained herein constitutes investment advice or offers any opinion with respect to the suitability of any security, and any views expressed herein should not be taken as advice to buy, sell, or hold any security or as an endorsement of any security or company.  In preparing the information contained herein, Quantopian, Inc. has not taken into account the investment needs, objectives, and financial circumstances of any particular investor. Any views expressed and data illustrated herein were prepared based upon information, believed to be reliable, available to Quantopian, Inc. at the time of publication. Quantopian makes no guarantees as to their accuracy or completeness. All information is subject to change and may quickly become unreliable for various reasons, including changes in market conditions or economic circumstances.*"
   ]
  },
  {
   "cell_type": "code",
   "execution_count": 1,
   "metadata": {
    "slideshow": {
     "slide_type": "skip"
    }
   },
   "outputs": [
    {
     "name": "stdout",
     "output_type": "stream",
     "text": [
      "[NbConvertApp] Converting notebook ./Thrifting_Alpha_Talk.ipynb to slides\n",
      "[NbConvertApp] Writing 280921 bytes to ./Thrifting_Alpha_Talk.slides.html\n"
     ]
    }
   ],
   "source": [
    "!jupyter nbconvert --to slides ./Thrifting_Alpha_Talk.ipynb --reveal-prefix=http://cdnjs.cloudflare.com/ajax/libs/reveal.js/3.2.0"
   ]
  },
  {
   "cell_type": "code",
   "execution_count": null,
   "metadata": {
    "collapsed": true,
    "slideshow": {
     "slide_type": "skip"
    }
   },
   "outputs": [],
   "source": []
  }
 ],
 "metadata": {
  "anaconda-cloud": {},
  "celltoolbar": "Slideshow",
  "kernelspec": {
   "display_name": "Python 2",
   "language": "python",
   "name": "python2"
  },
  "language_info": {
   "codemirror_mode": {
    "name": "ipython",
    "version": 3
   },
   "file_extension": ".py",
   "mimetype": "text/x-python",
   "name": "python",
   "nbconvert_exporter": "python",
   "pygments_lexer": "ipython3",
   "version": "3.6.1"
  }
 },
 "nbformat": 4,
 "nbformat_minor": 2
}
